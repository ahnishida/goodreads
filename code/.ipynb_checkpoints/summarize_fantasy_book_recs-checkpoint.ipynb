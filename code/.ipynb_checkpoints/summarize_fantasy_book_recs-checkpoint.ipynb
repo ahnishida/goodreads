{
 "cells": [
  {
   "cell_type": "code",
   "execution_count": 1,
   "metadata": {},
   "outputs": [
    {
     "data": {
      "text/plain": [
       "'/Users/ahn/Desktop/data_sci/goodreads/code'"
      ]
     },
     "execution_count": 1,
     "metadata": {},
     "output_type": "execute_result"
    }
   ],
   "source": [
    "import os\n",
    "import pandas as pd\n"
   ]
  },
  {
   "cell_type": "code",
   "execution_count": 11,
   "metadata": {},
   "outputs": [
    {
     "name": "stdout",
     "output_type": "stream",
     "text": [
      "0\n"
     ]
    }
   ],
   "source": [
    "book_lists = pd.read_csv('../data/fantasy_lists.tsv')\n",
    "book_lists  = set(listdf['listTitle'])\n",
    "dn_lists = set([f.split('.tsv')[0] for f in os.listdir('data/lists')])\n",
    "book_lists = set(book_lists).intersection(dn_lists)\n",
    "book_lists = [pd.read_csv(f'../data/lists/{listName}.tsv',sep='\\t') for listName in book_lists]\n",
    "print(len(book_lists))\n",
    "#book_lists = pd.concat(book_lists)"
   ]
  },
  {
   "cell_type": "code",
   "execution_count": null,
   "metadata": {},
   "outputs": [],
   "source": []
  }
 ],
 "metadata": {
  "kernelspec": {
   "display_name": "Python 3",
   "language": "python",
   "name": "python3"
  },
  "language_info": {
   "codemirror_mode": {
    "name": "ipython",
    "version": 3
   },
   "file_extension": ".py",
   "mimetype": "text/x-python",
   "name": "python",
   "nbconvert_exporter": "python",
   "pygments_lexer": "ipython3",
   "version": "3.7.7"
  }
 },
 "nbformat": 4,
 "nbformat_minor": 4
}
